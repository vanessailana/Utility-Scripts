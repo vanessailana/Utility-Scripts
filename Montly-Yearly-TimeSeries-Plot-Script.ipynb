{
 "cells": [
  {
   "cell_type": "code",
   "execution_count": null,
   "metadata": {},
   "outputs": [],
   "source": [
    "#Statitionary versus Non Statitionary\n",
    "from matplotlib.ticker import ScalarFormatter, FormatStrFormatter\n",
    "import matplotlib.pyplot as plt\n",
    "fig, ax = plt.subplots(figsize=(20,10))\n",
    "plt.plot(data2['dates'],data2['counts'], '-o',color='black',markerfacecolor='r')\n",
    "my_xticks=['Jan 2017','','','Apr','','','Jul','','','Oct','','','Jan 2018','','','Apr','','','Jul','','','Oct','','','Jan 2019','','','Apr','','','Jul','','','Oct','','','Jan 2020','','','Apr','','','Jul','','','Oct','','Dec']\n",
    "plt.xticks(data2['dates'], my_xticks,fontsize=20,rotation=90)\n",
    "plt.yticks(fontsize=20)\n",
    "plt.grid()\n",
    "plt.xlabel('Month/Yearly',fontsize=20)\n",
    "plt.ylabel('Number of Push Events',fontsize=20)\n",
    "plt.title('Push Events to Github Between 2017-2020',fontsize=20)\n",
    "plt.savefig('plot.png', dpi=300, bbox_inches='tight')\n",
    "fig.set_size_inches(18.5, 10.5)\n",
    "fig.savefig('push-events-github.png')"
   ]
  }
 ],
 "metadata": {
  "kernelspec": {
   "display_name": "Python 3",
   "language": "python",
   "name": "python3"
  },
  "language_info": {
   "codemirror_mode": {
    "name": "ipython",
    "version": 3
   },
   "file_extension": ".py",
   "mimetype": "text/x-python",
   "name": "python",
   "nbconvert_exporter": "python",
   "pygments_lexer": "ipython3",
   "version": "3.8.6"
  }
 },
 "nbformat": 4,
 "nbformat_minor": 4
}
